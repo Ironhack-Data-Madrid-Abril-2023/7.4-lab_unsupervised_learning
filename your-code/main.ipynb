{
 "cells": [
  {
   "attachments": {},
   "cell_type": "markdown",
   "metadata": {
    "toc": true
   },
   "source": [
    "<h1>Table of Contents<span class=\"tocSkip\"></span></h1>\n",
    "<div class=\"toc\"><ul class=\"toc-item\"><li><span><a href=\"#Before-your-start:\" data-toc-modified-id=\"Before-your-start:-1\"><span class=\"toc-item-num\">1&nbsp;&nbsp;</span>Before your start:</a></span></li><li><span><a href=\"#Challenge-1---Import-and-Describe-the-Dataset\" data-toc-modified-id=\"Challenge-1---Import-and-Describe-the-Dataset-2\"><span class=\"toc-item-num\">2&nbsp;&nbsp;</span>Challenge 1 - Import and Describe the Dataset</a></span><ul class=\"toc-item\"><li><ul class=\"toc-item\"><li><ul class=\"toc-item\"><li><span><a href=\"#Explore-the-dataset-with-mathematical-and-visualization-techniques.-What-do-you-find?\" data-toc-modified-id=\"Explore-the-dataset-with-mathematical-and-visualization-techniques.-What-do-you-find?-2.0.0.1\"><span class=\"toc-item-num\">2.0.0.1&nbsp;&nbsp;</span>Explore the dataset with mathematical and visualization techniques. What do you find?</a></span></li></ul></li></ul></li></ul></li><li><span><a href=\"#Challenge-2---Data-Cleaning-and-Transformation\" data-toc-modified-id=\"Challenge-2---Data-Cleaning-and-Transformation-3\"><span class=\"toc-item-num\">3&nbsp;&nbsp;</span>Challenge 2 - Data Cleaning and Transformation</a></span></li><li><span><a href=\"#Challenge-3---Data-Preprocessing\" data-toc-modified-id=\"Challenge-3---Data-Preprocessing-4\"><span class=\"toc-item-num\">4&nbsp;&nbsp;</span>Challenge 3 - Data Preprocessing</a></span><ul class=\"toc-item\"><li><ul class=\"toc-item\"><li><ul class=\"toc-item\"><li><span><a href=\"#We-will-use-the-StandardScaler-from-sklearn.preprocessing-and-scale-our-data.-Read-more-about-StandardScaler-here.\" data-toc-modified-id=\"We-will-use-the-StandardScaler-from-sklearn.preprocessing-and-scale-our-data.-Read-more-about-StandardScaler-here.-4.0.0.1\"><span class=\"toc-item-num\">4.0.0.1&nbsp;&nbsp;</span>We will use the <code>StandardScaler</code> from <code>sklearn.preprocessing</code> and scale our data. Read more about <code>StandardScaler</code> <a href=\"https://scikit-learn.org/stable/modules/generated/sklearn.preprocessing.StandardScaler.html#sklearn.preprocessing.StandardScaler\" target=\"_blank\">here</a>.</a></span></li></ul></li></ul></li></ul></li><li><span><a href=\"#Challenge-4---Data-Clustering-with-K-Means\" data-toc-modified-id=\"Challenge-4---Data-Clustering-with-K-Means-5\"><span class=\"toc-item-num\">5&nbsp;&nbsp;</span>Challenge 4 - Data Clustering with K-Means</a></span></li><li><span><a href=\"#Challenge-5---Data-Clustering-with-DBSCAN\" data-toc-modified-id=\"Challenge-5---Data-Clustering-with-DBSCAN-6\"><span class=\"toc-item-num\">6&nbsp;&nbsp;</span>Challenge 5 - Data Clustering with DBSCAN</a></span></li><li><span><a href=\"#Challenge-6---Compare-K-Means-with-DBSCAN\" data-toc-modified-id=\"Challenge-6---Compare-K-Means-with-DBSCAN-7\"><span class=\"toc-item-num\">7&nbsp;&nbsp;</span>Challenge 6 - Compare K-Means with DBSCAN</a></span></li><li><span><a href=\"#Bonus-Challenge-2---Changing-K-Means-Number-of-Clusters\" data-toc-modified-id=\"Bonus-Challenge-2---Changing-K-Means-Number-of-Clusters-8\"><span class=\"toc-item-num\">8&nbsp;&nbsp;</span>Bonus Challenge 2 - Changing K-Means Number of Clusters</a></span></li><li><span><a href=\"#Bonus-Challenge-3---Changing-DBSCAN-eps-and-min_samples\" data-toc-modified-id=\"Bonus-Challenge-3---Changing-DBSCAN-eps-and-min_samples-9\"><span class=\"toc-item-num\">9&nbsp;&nbsp;</span>Bonus Challenge 3 - Changing DBSCAN <code>eps</code> and <code>min_samples</code></a></span></li></ul></div>"
   ]
  },
  {
   "attachments": {},
   "cell_type": "markdown",
   "metadata": {},
   "source": [
    "# Before your start:\n",
    "- Read the README.md file\n",
    "- Comment as much as you can and use the resources in the README.md file\n",
    "- Happy learning!"
   ]
  },
  {
   "cell_type": "code",
   "execution_count": 1,
   "metadata": {},
   "outputs": [],
   "source": [
    "# Import your libraries:\n",
    "\n",
    "%matplotlib inline\n",
    "\n",
    "import matplotlib.pyplot as plt\n",
    "import seaborn as sns \n",
    "import numpy as np\n",
    "import pandas as pd\n",
    "import seaborn as sns\n",
    "import warnings                                              \n",
    "from sklearn.exceptions import DataConversionWarning          \n",
    "warnings.filterwarnings(action='ignore', category=DataConversionWarning)"
   ]
  },
  {
   "attachments": {},
   "cell_type": "markdown",
   "metadata": {},
   "source": [
    "# Challenge 1 - Import and Describe the Dataset\n",
    "\n",
    "In this lab, we will use a dataset containing information about customer preferences. We will look at how much each customer spends in a year on each subcategory in the grocery store and try to find similarities using clustering.\n",
    "\n",
    "The origin of the dataset is [here](https://archive.ics.uci.edu/ml/datasets/wholesale+customers)."
   ]
  },
  {
   "cell_type": "code",
   "execution_count": 2,
   "metadata": {},
   "outputs": [],
   "source": [
    "# loading the data:\n",
    "customers = pd.read_csv('../data/Wholesale customers data.csv')"
   ]
  },
  {
   "attachments": {},
   "cell_type": "markdown",
   "metadata": {},
   "source": [
    "#### Explore the dataset with mathematical and visualization techniques. What do you find?\n",
    "\n",
    "Checklist:\n",
    "\n",
    "* What does each column mean?\n",
    "* Any categorical data to convert?\n",
    "* Any missing data to remove?\n",
    "* Column collinearity - any high correlations?\n",
    "* Descriptive statistics - any outliers to remove?\n",
    "* Column-wise data distribution - is the distribution skewed?\n",
    "* Etc.\n",
    "\n",
    "Additional info: Over a century ago, an Italian economist named Vilfredo Pareto discovered that roughly 20% of the customers account for 80% of the typical retail sales. This is called the [Pareto principle](https://en.wikipedia.org/wiki/Pareto_principle). Check if this dataset displays this characteristic."
   ]
  },
  {
   "cell_type": "code",
   "execution_count": 3,
   "metadata": {},
   "outputs": [
    {
     "data": {
      "text/plain": [
       "Channel                 1.322727\n",
       "Region                  2.543182\n",
       "Fresh               12000.297727\n",
       "Milk                 5796.265909\n",
       "Grocery              7951.277273\n",
       "Frozen               3071.931818\n",
       "Detergents_Paper     2881.493182\n",
       "Delicassen           1524.870455\n",
       "dtype: float64"
      ]
     },
     "execution_count": 3,
     "metadata": {},
     "output_type": "execute_result"
    }
   ],
   "source": [
    "customers.mean()"
   ]
  },
  {
   "cell_type": "code",
   "execution_count": 4,
   "metadata": {},
   "outputs": [
    {
     "name": "stdout",
     "output_type": "stream",
     "text": [
      "<class 'pandas.core.frame.DataFrame'>\n",
      "RangeIndex: 440 entries, 0 to 439\n",
      "Data columns (total 8 columns):\n",
      " #   Column            Non-Null Count  Dtype\n",
      "---  ------            --------------  -----\n",
      " 0   Channel           440 non-null    int64\n",
      " 1   Region            440 non-null    int64\n",
      " 2   Fresh             440 non-null    int64\n",
      " 3   Milk              440 non-null    int64\n",
      " 4   Grocery           440 non-null    int64\n",
      " 5   Frozen            440 non-null    int64\n",
      " 6   Detergents_Paper  440 non-null    int64\n",
      " 7   Delicassen        440 non-null    int64\n",
      "dtypes: int64(8)\n",
      "memory usage: 27.6 KB\n"
     ]
    }
   ],
   "source": [
    "customers.info()"
   ]
  },
  {
   "cell_type": "code",
   "execution_count": 5,
   "metadata": {},
   "outputs": [
    {
     "data": {
      "text/html": [
       "<div>\n",
       "<style scoped>\n",
       "    .dataframe tbody tr th:only-of-type {\n",
       "        vertical-align: middle;\n",
       "    }\n",
       "\n",
       "    .dataframe tbody tr th {\n",
       "        vertical-align: top;\n",
       "    }\n",
       "\n",
       "    .dataframe thead th {\n",
       "        text-align: right;\n",
       "    }\n",
       "</style>\n",
       "<table border=\"1\" class=\"dataframe\">\n",
       "  <thead>\n",
       "    <tr style=\"text-align: right;\">\n",
       "      <th></th>\n",
       "      <th>Channel</th>\n",
       "      <th>Region</th>\n",
       "      <th>Fresh</th>\n",
       "      <th>Milk</th>\n",
       "      <th>Grocery</th>\n",
       "      <th>Frozen</th>\n",
       "      <th>Detergents_Paper</th>\n",
       "      <th>Delicassen</th>\n",
       "    </tr>\n",
       "  </thead>\n",
       "  <tbody>\n",
       "    <tr>\n",
       "      <th>Channel</th>\n",
       "      <td>1.000000</td>\n",
       "      <td>0.062028</td>\n",
       "      <td>-0.169172</td>\n",
       "      <td>0.460720</td>\n",
       "      <td>0.608792</td>\n",
       "      <td>-0.202046</td>\n",
       "      <td>0.636026</td>\n",
       "      <td>0.056011</td>\n",
       "    </tr>\n",
       "    <tr>\n",
       "      <th>Region</th>\n",
       "      <td>0.062028</td>\n",
       "      <td>1.000000</td>\n",
       "      <td>0.055287</td>\n",
       "      <td>0.032288</td>\n",
       "      <td>0.007696</td>\n",
       "      <td>-0.021044</td>\n",
       "      <td>-0.001483</td>\n",
       "      <td>0.045212</td>\n",
       "    </tr>\n",
       "    <tr>\n",
       "      <th>Fresh</th>\n",
       "      <td>-0.169172</td>\n",
       "      <td>0.055287</td>\n",
       "      <td>1.000000</td>\n",
       "      <td>0.100510</td>\n",
       "      <td>-0.011854</td>\n",
       "      <td>0.345881</td>\n",
       "      <td>-0.101953</td>\n",
       "      <td>0.244690</td>\n",
       "    </tr>\n",
       "    <tr>\n",
       "      <th>Milk</th>\n",
       "      <td>0.460720</td>\n",
       "      <td>0.032288</td>\n",
       "      <td>0.100510</td>\n",
       "      <td>1.000000</td>\n",
       "      <td>0.728335</td>\n",
       "      <td>0.123994</td>\n",
       "      <td>0.661816</td>\n",
       "      <td>0.406368</td>\n",
       "    </tr>\n",
       "    <tr>\n",
       "      <th>Grocery</th>\n",
       "      <td>0.608792</td>\n",
       "      <td>0.007696</td>\n",
       "      <td>-0.011854</td>\n",
       "      <td>0.728335</td>\n",
       "      <td>1.000000</td>\n",
       "      <td>-0.040193</td>\n",
       "      <td>0.924641</td>\n",
       "      <td>0.205497</td>\n",
       "    </tr>\n",
       "    <tr>\n",
       "      <th>Frozen</th>\n",
       "      <td>-0.202046</td>\n",
       "      <td>-0.021044</td>\n",
       "      <td>0.345881</td>\n",
       "      <td>0.123994</td>\n",
       "      <td>-0.040193</td>\n",
       "      <td>1.000000</td>\n",
       "      <td>-0.131525</td>\n",
       "      <td>0.390947</td>\n",
       "    </tr>\n",
       "    <tr>\n",
       "      <th>Detergents_Paper</th>\n",
       "      <td>0.636026</td>\n",
       "      <td>-0.001483</td>\n",
       "      <td>-0.101953</td>\n",
       "      <td>0.661816</td>\n",
       "      <td>0.924641</td>\n",
       "      <td>-0.131525</td>\n",
       "      <td>1.000000</td>\n",
       "      <td>0.069291</td>\n",
       "    </tr>\n",
       "    <tr>\n",
       "      <th>Delicassen</th>\n",
       "      <td>0.056011</td>\n",
       "      <td>0.045212</td>\n",
       "      <td>0.244690</td>\n",
       "      <td>0.406368</td>\n",
       "      <td>0.205497</td>\n",
       "      <td>0.390947</td>\n",
       "      <td>0.069291</td>\n",
       "      <td>1.000000</td>\n",
       "    </tr>\n",
       "  </tbody>\n",
       "</table>\n",
       "</div>"
      ],
      "text/plain": [
       "                   Channel    Region     Fresh      Milk   Grocery    Frozen   \n",
       "Channel           1.000000  0.062028 -0.169172  0.460720  0.608792 -0.202046  \\\n",
       "Region            0.062028  1.000000  0.055287  0.032288  0.007696 -0.021044   \n",
       "Fresh            -0.169172  0.055287  1.000000  0.100510 -0.011854  0.345881   \n",
       "Milk              0.460720  0.032288  0.100510  1.000000  0.728335  0.123994   \n",
       "Grocery           0.608792  0.007696 -0.011854  0.728335  1.000000 -0.040193   \n",
       "Frozen           -0.202046 -0.021044  0.345881  0.123994 -0.040193  1.000000   \n",
       "Detergents_Paper  0.636026 -0.001483 -0.101953  0.661816  0.924641 -0.131525   \n",
       "Delicassen        0.056011  0.045212  0.244690  0.406368  0.205497  0.390947   \n",
       "\n",
       "                  Detergents_Paper  Delicassen  \n",
       "Channel                   0.636026    0.056011  \n",
       "Region                   -0.001483    0.045212  \n",
       "Fresh                    -0.101953    0.244690  \n",
       "Milk                      0.661816    0.406368  \n",
       "Grocery                   0.924641    0.205497  \n",
       "Frozen                   -0.131525    0.390947  \n",
       "Detergents_Paper          1.000000    0.069291  \n",
       "Delicassen                0.069291    1.000000  "
      ]
     },
     "execution_count": 5,
     "metadata": {},
     "output_type": "execute_result"
    }
   ],
   "source": [
    "customers.corr()"
   ]
  },
  {
   "cell_type": "code",
   "execution_count": 61,
   "metadata": {},
   "outputs": [
    {
     "data": {
      "image/png": "[encoded data removed]",
      "text/plain": [
       "<Figure size 1000x500 with 2 Axes>"
      ]
     },
     "metadata": {},
     "output_type": "display_data"
    }
   ],
   "source": [
    "plt.figure(figsize=(10, 5))\n",
    "\n",
    "sns.set(style='dark')\n",
    "\n",
    "mask=np.triu(np.ones_like(customers.corr(),dtype=bool))\n",
    "cmap=sns.diverging_palette(0, 10, as_cmap=True)\n",
    "\n",
    "\n",
    "sns.heatmap(customers.corr(),\n",
    "           mask=mask,\n",
    "          cmap='cool',\n",
    "          center=0,\n",
    "          square=True,\n",
    "          annot=True,\n",
    "          linewidths=0.5,\n",
    "          cbar_kws={'shrink': 0.5});"
   ]
  },
  {
   "cell_type": "code",
   "execution_count": 7,
   "metadata": {},
   "outputs": [
    {
     "data": {
      "text/html": [
       "<div>\n",
       "<style scoped>\n",
       "    .dataframe tbody tr th:only-of-type {\n",
       "        vertical-align: middle;\n",
       "    }\n",
       "\n",
       "    .dataframe tbody tr th {\n",
       "        vertical-align: top;\n",
       "    }\n",
       "\n",
       "    .dataframe thead th {\n",
       "        text-align: right;\n",
       "    }\n",
       "</style>\n",
       "<table border=\"1\" class=\"dataframe\">\n",
       "  <thead>\n",
       "    <tr style=\"text-align: right;\">\n",
       "      <th></th>\n",
       "      <th>Channel</th>\n",
       "      <th>Region</th>\n",
       "      <th>Fresh</th>\n",
       "      <th>Milk</th>\n",
       "      <th>Grocery</th>\n",
       "      <th>Frozen</th>\n",
       "      <th>Detergents_Paper</th>\n",
       "      <th>Delicassen</th>\n",
       "    </tr>\n",
       "  </thead>\n",
       "  <tbody>\n",
       "    <tr>\n",
       "      <th>count</th>\n",
       "      <td>440.000000</td>\n",
       "      <td>440.000000</td>\n",
       "      <td>440.000000</td>\n",
       "      <td>440.000000</td>\n",
       "      <td>440.000000</td>\n",
       "      <td>440.000000</td>\n",
       "      <td>440.000000</td>\n",
       "      <td>440.000000</td>\n",
       "    </tr>\n",
       "    <tr>\n",
       "      <th>mean</th>\n",
       "      <td>1.322727</td>\n",
       "      <td>2.543182</td>\n",
       "      <td>12000.297727</td>\n",
       "      <td>5796.265909</td>\n",
       "      <td>7951.277273</td>\n",
       "      <td>3071.931818</td>\n",
       "      <td>2881.493182</td>\n",
       "      <td>1524.870455</td>\n",
       "    </tr>\n",
       "    <tr>\n",
       "      <th>std</th>\n",
       "      <td>0.468052</td>\n",
       "      <td>0.774272</td>\n",
       "      <td>12647.328865</td>\n",
       "      <td>7380.377175</td>\n",
       "      <td>9503.162829</td>\n",
       "      <td>4854.673333</td>\n",
       "      <td>4767.854448</td>\n",
       "      <td>2820.105937</td>\n",
       "    </tr>\n",
       "    <tr>\n",
       "      <th>min</th>\n",
       "      <td>1.000000</td>\n",
       "      <td>1.000000</td>\n",
       "      <td>3.000000</td>\n",
       "      <td>55.000000</td>\n",
       "      <td>3.000000</td>\n",
       "      <td>25.000000</td>\n",
       "      <td>3.000000</td>\n",
       "      <td>3.000000</td>\n",
       "    </tr>\n",
       "    <tr>\n",
       "      <th>25%</th>\n",
       "      <td>1.000000</td>\n",
       "      <td>2.000000</td>\n",
       "      <td>3127.750000</td>\n",
       "      <td>1533.000000</td>\n",
       "      <td>2153.000000</td>\n",
       "      <td>742.250000</td>\n",
       "      <td>256.750000</td>\n",
       "      <td>408.250000</td>\n",
       "    </tr>\n",
       "    <tr>\n",
       "      <th>50%</th>\n",
       "      <td>1.000000</td>\n",
       "      <td>3.000000</td>\n",
       "      <td>8504.000000</td>\n",
       "      <td>3627.000000</td>\n",
       "      <td>4755.500000</td>\n",
       "      <td>1526.000000</td>\n",
       "      <td>816.500000</td>\n",
       "      <td>965.500000</td>\n",
       "    </tr>\n",
       "    <tr>\n",
       "      <th>75%</th>\n",
       "      <td>2.000000</td>\n",
       "      <td>3.000000</td>\n",
       "      <td>16933.750000</td>\n",
       "      <td>7190.250000</td>\n",
       "      <td>10655.750000</td>\n",
       "      <td>3554.250000</td>\n",
       "      <td>3922.000000</td>\n",
       "      <td>1820.250000</td>\n",
       "    </tr>\n",
       "    <tr>\n",
       "      <th>max</th>\n",
       "      <td>2.000000</td>\n",
       "      <td>3.000000</td>\n",
       "      <td>112151.000000</td>\n",
       "      <td>73498.000000</td>\n",
       "      <td>92780.000000</td>\n",
       "      <td>60869.000000</td>\n",
       "      <td>40827.000000</td>\n",
       "      <td>47943.000000</td>\n",
       "    </tr>\n",
       "  </tbody>\n",
       "</table>\n",
       "</div>"
      ],
      "text/plain": [
       "          Channel      Region          Fresh          Milk       Grocery   \n",
       "count  440.000000  440.000000     440.000000    440.000000    440.000000  \\\n",
       "mean     1.322727    2.543182   12000.297727   5796.265909   7951.277273   \n",
       "std      0.468052    0.774272   12647.328865   7380.377175   9503.162829   \n",
       "min      1.000000    1.000000       3.000000     55.000000      3.000000   \n",
       "25%      1.000000    2.000000    3127.750000   1533.000000   2153.000000   \n",
       "50%      1.000000    3.000000    8504.000000   3627.000000   4755.500000   \n",
       "75%      2.000000    3.000000   16933.750000   7190.250000  10655.750000   \n",
       "max      2.000000    3.000000  112151.000000  73498.000000  92780.000000   \n",
       "\n",
       "             Frozen  Detergents_Paper    Delicassen  \n",
       "count    440.000000        440.000000    440.000000  \n",
       "mean    3071.931818       2881.493182   1524.870455  \n",
       "std     4854.673333       4767.854448   2820.105937  \n",
       "min       25.000000          3.000000      3.000000  \n",
       "25%      742.250000        256.750000    408.250000  \n",
       "50%     1526.000000        816.500000    965.500000  \n",
       "75%     3554.250000       3922.000000   1820.250000  \n",
       "max    60869.000000      40827.000000  47943.000000  "
      ]
     },
     "execution_count": 7,
     "metadata": {},
     "output_type": "execute_result"
    }
   ],
   "source": [
    "customers.describe()"
   ]
  },
  {
   "cell_type": "code",
   "execution_count": 8,
   "metadata": {},
   "outputs": [
    {
     "data": {
      "text/plain": [
       "{'whiskers': [<matplotlib.lines.Line2D at 0x213f67d1490>,\n",
       "  <matplotlib.lines.Line2D at 0x213f9561d50>,\n",
       "  <matplotlib.lines.Line2D at 0x213f956cf90>,\n",
       "  <matplotlib.lines.Line2D at 0x213f956d910>,\n",
       "  <matplotlib.lines.Line2D at 0x213f9580f50>,\n",
       "  <matplotlib.lines.Line2D at 0x213f95818d0>,\n",
       "  <matplotlib.lines.Line2D at 0x213f9589910>,\n",
       "  <matplotlib.lines.Line2D at 0x213f958a310>,\n",
       "  <matplotlib.lines.Line2D at 0x213f959e750>,\n",
       "  <matplotlib.lines.Line2D at 0x213f959f1d0>,\n",
       "  <matplotlib.lines.Line2D at 0x213f95a7350>,\n",
       "  <matplotlib.lines.Line2D at 0x213f95a7e50>,\n",
       "  <matplotlib.lines.Line2D at 0x213f95bc0d0>,\n",
       "  <matplotlib.lines.Line2D at 0x213f95bcb90>,\n",
       "  <matplotlib.lines.Line2D at 0x213f95c8c50>,\n",
       "  <matplotlib.lines.Line2D at 0x213f95c95d0>],\n",
       " 'caps': [<matplotlib.lines.Line2D at 0x213f95626d0>,\n",
       "  <matplotlib.lines.Line2D at 0x213f9562f50>,\n",
       "  <matplotlib.lines.Line2D at 0x213f956e210>,\n",
       "  <matplotlib.lines.Line2D at 0x213f956eb50>,\n",
       "  <matplotlib.lines.Line2D at 0x213f9582390>,\n",
       "  <matplotlib.lines.Line2D at 0x213f9582e50>,\n",
       "  <matplotlib.lines.Line2D at 0x213f958add0>,\n",
       "  <matplotlib.lines.Line2D at 0x213f958ba50>,\n",
       "  <matplotlib.lines.Line2D at 0x213f959fc90>,\n",
       "  <matplotlib.lines.Line2D at 0x213f95a4810>,\n",
       "  <matplotlib.lines.Line2D at 0x213f95b4890>,\n",
       "  <matplotlib.lines.Line2D at 0x213f95b5410>,\n",
       "  <matplotlib.lines.Line2D at 0x213f95bd710>,\n",
       "  <matplotlib.lines.Line2D at 0x213f95be0d0>,\n",
       "  <matplotlib.lines.Line2D at 0x213f95ca150>,\n",
       "  <matplotlib.lines.Line2D at 0x213f95cac50>],\n",
       " 'boxes': [<matplotlib.lines.Line2D at 0x213f9549450>,\n",
       "  <matplotlib.lines.Line2D at 0x213f956c690>,\n",
       "  <matplotlib.lines.Line2D at 0x213f9580650>,\n",
       "  <matplotlib.lines.Line2D at 0x213f9588f10>,\n",
       "  <matplotlib.lines.Line2D at 0x213f959dc10>,\n",
       "  <matplotlib.lines.Line2D at 0x213f95a6910>,\n",
       "  <matplotlib.lines.Line2D at 0x213f95b7590>,\n",
       "  <matplotlib.lines.Line2D at 0x213f95c8290>],\n",
       " 'medians': [<matplotlib.lines.Line2D at 0x213f9563690>,\n",
       "  <matplotlib.lines.Line2D at 0x213f956f450>,\n",
       "  <matplotlib.lines.Line2D at 0x213f9583990>,\n",
       "  <matplotlib.lines.Line2D at 0x213f959c510>,\n",
       "  <matplotlib.lines.Line2D at 0x213f95a52d0>,\n",
       "  <matplotlib.lines.Line2D at 0x213f95b5ed0>,\n",
       "  <matplotlib.lines.Line2D at 0x213f95becd0>,\n",
       "  <matplotlib.lines.Line2D at 0x213f95cb790>],\n",
       " 'fliers': [<matplotlib.lines.Line2D at 0x213f704fe90>,\n",
       "  <matplotlib.lines.Line2D at 0x213f956fc50>,\n",
       "  <matplotlib.lines.Line2D at 0x213f9588350>,\n",
       "  <matplotlib.lines.Line2D at 0x213f70412d0>,\n",
       "  <matplotlib.lines.Line2D at 0x213f95a5cd0>,\n",
       "  <matplotlib.lines.Line2D at 0x213f95b6910>,\n",
       "  <matplotlib.lines.Line2D at 0x213f95a6e50>,\n",
       "  <matplotlib.lines.Line2D at 0x213f95d8210>],\n",
       " 'means': []}"
      ]
     },
     "execution_count": 8,
     "metadata": {},
     "output_type": "execute_result"
    },
    {
     "data": {
      "image/png": "[encoded data removed]",
      "text/plain": [
       "<Figure size 640x480 with 1 Axes>"
      ]
     },
     "metadata": {},
     "output_type": "display_data"
    }
   ],
   "source": [
    "plt.boxplot(customers)"
   ]
  },
  {
   "cell_type": "code",
   "execution_count": 9,
   "metadata": {},
   "outputs": [
    {
     "name": "stdout",
     "output_type": "stream",
     "text": [
      "0.760951157493207 :simetria casi perfecta de la columna Channel\n",
      "-1.283626930042069 :cola hacia la izquierda, asimetria de la columna Region\n",
      "2.561322751927935 : cola hacia la derecha, asimetria de la columna Fresh\n",
      "4.053754849210881 : cola hacia la derecha, asimetria de la columna Milk\n",
      "3.5874286903915453 : cola hacia la derecha, asimetria de la columna Grocery\n",
      "5.9079856924559575 : cola hacia la derecha, asimetria de la columna Frozen\n",
      "3.6318506306913645 : cola hacia la derecha, asimetria de la columna Detergents_Paper\n",
      "11.151586478906117 : cola hacia la derecha, asimetria de la columna Delicassen\n"
     ]
    }
   ],
   "source": [
    "for i in customers:\n",
    "    if customers[i].skew()<1 and customers[i].skew()>-1:\n",
    "        print(f'{customers[i].skew()} :simetria casi perfecta de la columna {i}')\n",
    "    elif customers[i].skew()>-1:\n",
    "        print(f'{customers[i].skew()} : cola hacia la derecha, asimetria de la columna {i}')\n",
    "    elif customers[i].skew()<1:\n",
    "        print(f'{customers[i].skew()} :cola hacia la izquierda, asimetria de la columna {i}')"
   ]
  },
  {
   "cell_type": "code",
   "execution_count": 10,
   "metadata": {},
   "outputs": [
    {
     "ename": "AttributeError",
     "evalue": "module 'matplotlib.pyplot' has no attribute 'y_limit'",
     "output_type": "error",
     "traceback": [
      "\u001b[1;31m---------------------------------------------------------------------------\u001b[0m",
      "\u001b[1;31mAttributeError\u001b[0m                            Traceback (most recent call last)",
      "Cell \u001b[1;32mIn[10], line 8\u001b[0m\n\u001b[0;32m      6\u001b[0m plt\u001b[39m.\u001b[39mxticks(rotation\u001b[39m=\u001b[39m\u001b[39m90\u001b[39m)\n\u001b[0;32m      7\u001b[0m plt\u001b[39m.\u001b[39mgrid(\u001b[39mTrue\u001b[39;00m)\n\u001b[1;32m----> 8\u001b[0m plt\u001b[39m.\u001b[39;49my_limit(\u001b[39m-\u001b[39m\u001b[39m3\u001b[39m,\u001b[39m20\u001b[39m)\n\u001b[0;32m      9\u001b[0m plt\u001b[39m.\u001b[39mshow()\n",
      "\u001b[1;31mAttributeError\u001b[0m: module 'matplotlib.pyplot' has no attribute 'y_limit'"
     ]
    },
    {
     "data": {
      "image/png": "[encoded data removed]",
      "text/plain": [
       "<Figure size 640x480 with 1 Axes>"
      ]
     },
     "metadata": {},
     "output_type": "display_data"
    }
   ],
   "source": [
    "skewness =customers.skew()\n",
    "plt.plot(skewness, marker='o')\n",
    "plt.xlabel('Column')\n",
    "plt.ylabel('Skewness')\n",
    "plt.title('Skewness of Columns')\n",
    "plt.xticks(rotation=90)\n",
    "plt.grid(True)\n",
    "plt.y_limit(-3,20)\n",
    "plt.show()"
   ]
  },
  {
   "cell_type": "code",
   "execution_count": 11,
   "metadata": {},
   "outputs": [],
   "source": [
    "#feliciddades todo esta desde aqui para adelante, o mejor dicho para atras"
   ]
  },
  {
   "cell_type": "code",
   "execution_count": 12,
   "metadata": {},
   "outputs": [
    {
     "data": {
      "text/plain": [
       "Index(['Channel', 'Region', 'Fresh', 'Milk', 'Grocery', 'Frozen',\n",
       "       'Detergents_Paper', 'Delicassen'],\n",
       "      dtype='object')"
      ]
     },
     "execution_count": 12,
     "metadata": {},
     "output_type": "execute_result"
    }
   ],
   "source": [
    "# Your code here:\n",
    "customers.columns   # se observan las columnas"
   ]
  },
  {
   "attachments": {},
   "cell_type": "markdown",
   "metadata": {},
   "source": [
    "**Your observations here**\n",
    "\n",
    "+ \n",
    "+ \n",
    "+ \n",
    "+ \n",
    "\n"
   ]
  },
  {
   "cell_type": "code",
   "execution_count": 13,
   "metadata": {},
   "outputs": [],
   "source": [
    "#You code here\n",
    "#justo arriba de esta celda esta lo que buscas"
   ]
  },
  {
   "cell_type": "code",
   "execution_count": 14,
   "metadata": {},
   "outputs": [],
   "source": [
    "#You code here\n",
    "#en la anterior celda esta la respuesta"
   ]
  },
  {
   "cell_type": "code",
   "execution_count": 15,
   "metadata": {},
   "outputs": [],
   "source": [
    "#You code here\n",
    "#solo sigo mirando pa arriba"
   ]
  },
  {
   "cell_type": "code",
   "execution_count": 16,
   "metadata": {},
   "outputs": [],
   "source": [
    "#You code here\n",
    "#un poco mas arriba "
   ]
  },
  {
   "cell_type": "code",
   "execution_count": 17,
   "metadata": {},
   "outputs": [],
   "source": [
    "#You code here\n",
    "#aqui no, mas arriba"
   ]
  },
  {
   "attachments": {},
   "cell_type": "markdown",
   "metadata": {},
   "source": [
    "# Challenge 2 - Data Cleaning and Transformation\n",
    "\n",
    "If your conclusion from the previous challenge is the data need cleaning/transformation, do it in the cells below. However, if your conclusion is the data need not be cleaned or transformed, feel free to skip this challenge. But if you do choose the latter, please provide rationale."
   ]
  },
  {
   "cell_type": "code",
   "execution_count": 18,
   "metadata": {},
   "outputs": [],
   "source": [
    "# Your code here\n"
   ]
  },
  {
   "cell_type": "code",
   "execution_count": 19,
   "metadata": {},
   "outputs": [
    {
     "data": {
      "text/plain": [
       "2.0"
      ]
     },
     "execution_count": 19,
     "metadata": {},
     "output_type": "execute_result"
    }
   ],
   "source": [
    "customers['Channel'].quantile(0.95)"
   ]
  },
  {
   "cell_type": "code",
   "execution_count": 20,
   "metadata": {},
   "outputs": [
    {
     "data": {
      "text/plain": [
       "0      2\n",
       "1      2\n",
       "2      2\n",
       "3      1\n",
       "4      2\n",
       "      ..\n",
       "435    1\n",
       "436    1\n",
       "437    2\n",
       "438    1\n",
       "439    1\n",
       "Name: Channel, Length: 440, dtype: int64"
      ]
     },
     "execution_count": 20,
     "metadata": {},
     "output_type": "execute_result"
    }
   ],
   "source": [
    "customers['Channel']"
   ]
  },
  {
   "cell_type": "code",
   "execution_count": 21,
   "metadata": {},
   "outputs": [
    {
     "data": {
      "text/html": [
       "<div>\n",
       "<style scoped>\n",
       "    .dataframe tbody tr th:only-of-type {\n",
       "        vertical-align: middle;\n",
       "    }\n",
       "\n",
       "    .dataframe tbody tr th {\n",
       "        vertical-align: top;\n",
       "    }\n",
       "\n",
       "    .dataframe thead th {\n",
       "        text-align: right;\n",
       "    }\n",
       "</style>\n",
       "<table border=\"1\" class=\"dataframe\">\n",
       "  <thead>\n",
       "    <tr style=\"text-align: right;\">\n",
       "      <th></th>\n",
       "      <th>Channel</th>\n",
       "      <th>Region</th>\n",
       "      <th>Fresh</th>\n",
       "      <th>Milk</th>\n",
       "      <th>Grocery</th>\n",
       "      <th>Frozen</th>\n",
       "      <th>Detergents_Paper</th>\n",
       "      <th>Delicassen</th>\n",
       "    </tr>\n",
       "  </thead>\n",
       "  <tbody>\n",
       "    <tr>\n",
       "      <th>0</th>\n",
       "      <td>2</td>\n",
       "      <td>3</td>\n",
       "      <td>12669</td>\n",
       "      <td>9656</td>\n",
       "      <td>7561</td>\n",
       "      <td>214</td>\n",
       "      <td>2674</td>\n",
       "      <td>1338</td>\n",
       "    </tr>\n",
       "    <tr>\n",
       "      <th>1</th>\n",
       "      <td>2</td>\n",
       "      <td>3</td>\n",
       "      <td>7057</td>\n",
       "      <td>9810</td>\n",
       "      <td>9568</td>\n",
       "      <td>1762</td>\n",
       "      <td>3293</td>\n",
       "      <td>1776</td>\n",
       "    </tr>\n",
       "    <tr>\n",
       "      <th>2</th>\n",
       "      <td>2</td>\n",
       "      <td>3</td>\n",
       "      <td>6353</td>\n",
       "      <td>8808</td>\n",
       "      <td>7684</td>\n",
       "      <td>2405</td>\n",
       "      <td>3516</td>\n",
       "      <td>7844</td>\n",
       "    </tr>\n",
       "    <tr>\n",
       "      <th>4</th>\n",
       "      <td>2</td>\n",
       "      <td>3</td>\n",
       "      <td>22615</td>\n",
       "      <td>5410</td>\n",
       "      <td>7198</td>\n",
       "      <td>3915</td>\n",
       "      <td>1777</td>\n",
       "      <td>5185</td>\n",
       "    </tr>\n",
       "    <tr>\n",
       "      <th>5</th>\n",
       "      <td>2</td>\n",
       "      <td>3</td>\n",
       "      <td>9413</td>\n",
       "      <td>8259</td>\n",
       "      <td>5126</td>\n",
       "      <td>666</td>\n",
       "      <td>1795</td>\n",
       "      <td>1451</td>\n",
       "    </tr>\n",
       "    <tr>\n",
       "      <th>...</th>\n",
       "      <td>...</td>\n",
       "      <td>...</td>\n",
       "      <td>...</td>\n",
       "      <td>...</td>\n",
       "      <td>...</td>\n",
       "      <td>...</td>\n",
       "      <td>...</td>\n",
       "      <td>...</td>\n",
       "    </tr>\n",
       "    <tr>\n",
       "      <th>418</th>\n",
       "      <td>2</td>\n",
       "      <td>3</td>\n",
       "      <td>660</td>\n",
       "      <td>8494</td>\n",
       "      <td>18622</td>\n",
       "      <td>133</td>\n",
       "      <td>6740</td>\n",
       "      <td>776</td>\n",
       "    </tr>\n",
       "    <tr>\n",
       "      <th>421</th>\n",
       "      <td>2</td>\n",
       "      <td>3</td>\n",
       "      <td>17063</td>\n",
       "      <td>4847</td>\n",
       "      <td>9053</td>\n",
       "      <td>1031</td>\n",
       "      <td>3415</td>\n",
       "      <td>1784</td>\n",
       "    </tr>\n",
       "    <tr>\n",
       "      <th>423</th>\n",
       "      <td>2</td>\n",
       "      <td>3</td>\n",
       "      <td>17565</td>\n",
       "      <td>3686</td>\n",
       "      <td>4657</td>\n",
       "      <td>1059</td>\n",
       "      <td>1803</td>\n",
       "      <td>668</td>\n",
       "    </tr>\n",
       "    <tr>\n",
       "      <th>424</th>\n",
       "      <td>2</td>\n",
       "      <td>3</td>\n",
       "      <td>16980</td>\n",
       "      <td>2884</td>\n",
       "      <td>12232</td>\n",
       "      <td>874</td>\n",
       "      <td>3213</td>\n",
       "      <td>249</td>\n",
       "    </tr>\n",
       "    <tr>\n",
       "      <th>437</th>\n",
       "      <td>2</td>\n",
       "      <td>3</td>\n",
       "      <td>14531</td>\n",
       "      <td>15488</td>\n",
       "      <td>30243</td>\n",
       "      <td>437</td>\n",
       "      <td>14841</td>\n",
       "      <td>1867</td>\n",
       "    </tr>\n",
       "  </tbody>\n",
       "</table>\n",
       "<p>142 rows × 8 columns</p>\n",
       "</div>"
      ],
      "text/plain": [
       "     Channel  Region  Fresh   Milk  Grocery  Frozen  Detergents_Paper   \n",
       "0          2       3  12669   9656     7561     214              2674  \\\n",
       "1          2       3   7057   9810     9568    1762              3293   \n",
       "2          2       3   6353   8808     7684    2405              3516   \n",
       "4          2       3  22615   5410     7198    3915              1777   \n",
       "5          2       3   9413   8259     5126     666              1795   \n",
       "..       ...     ...    ...    ...      ...     ...               ...   \n",
       "418        2       3    660   8494    18622     133              6740   \n",
       "421        2       3  17063   4847     9053    1031              3415   \n",
       "423        2       3  17565   3686     4657    1059              1803   \n",
       "424        2       3  16980   2884    12232     874              3213   \n",
       "437        2       3  14531  15488    30243     437             14841   \n",
       "\n",
       "     Delicassen  \n",
       "0          1338  \n",
       "1          1776  \n",
       "2          7844  \n",
       "4          5185  \n",
       "5          1451  \n",
       "..          ...  \n",
       "418         776  \n",
       "421        1784  \n",
       "423         668  \n",
       "424         249  \n",
       "437        1867  \n",
       "\n",
       "[142 rows x 8 columns]"
      ]
     },
     "execution_count": 21,
     "metadata": {},
     "output_type": "execute_result"
    }
   ],
   "source": [
    "customers[customers['Channel']>=customers['Channel'].quantile(0.95)]"
   ]
  },
  {
   "cell_type": "code",
   "execution_count": 22,
   "metadata": {},
   "outputs": [
    {
     "data": {
      "text/html": [
       "<div>\n",
       "<style scoped>\n",
       "    .dataframe tbody tr th:only-of-type {\n",
       "        vertical-align: middle;\n",
       "    }\n",
       "\n",
       "    .dataframe tbody tr th {\n",
       "        vertical-align: top;\n",
       "    }\n",
       "\n",
       "    .dataframe thead th {\n",
       "        text-align: right;\n",
       "    }\n",
       "</style>\n",
       "<table border=\"1\" class=\"dataframe\">\n",
       "  <thead>\n",
       "    <tr style=\"text-align: right;\">\n",
       "      <th></th>\n",
       "      <th>Fresh</th>\n",
       "      <th>Milk</th>\n",
       "      <th>Grocery</th>\n",
       "      <th>Frozen</th>\n",
       "      <th>Detergents_Paper</th>\n",
       "      <th>Delicassen</th>\n",
       "    </tr>\n",
       "  </thead>\n",
       "  <tbody>\n",
       "    <tr>\n",
       "      <th>12</th>\n",
       "      <td>31714</td>\n",
       "      <td>12319.0</td>\n",
       "      <td>NaN</td>\n",
       "      <td>NaN</td>\n",
       "      <td>NaN</td>\n",
       "      <td>NaN</td>\n",
       "    </tr>\n",
       "    <tr>\n",
       "      <th>22</th>\n",
       "      <td>31276</td>\n",
       "      <td>NaN</td>\n",
       "      <td>NaN</td>\n",
       "      <td>9408.0</td>\n",
       "      <td>NaN</td>\n",
       "      <td>4334.0</td>\n",
       "    </tr>\n",
       "    <tr>\n",
       "      <th>29</th>\n",
       "      <td>43088</td>\n",
       "      <td>NaN</td>\n",
       "      <td>NaN</td>\n",
       "      <td>NaN</td>\n",
       "      <td>NaN</td>\n",
       "      <td>NaN</td>\n",
       "    </tr>\n",
       "    <tr>\n",
       "      <th>33</th>\n",
       "      <td>29729</td>\n",
       "      <td>NaN</td>\n",
       "      <td>NaN</td>\n",
       "      <td>NaN</td>\n",
       "      <td>NaN</td>\n",
       "      <td>NaN</td>\n",
       "    </tr>\n",
       "    <tr>\n",
       "      <th>36</th>\n",
       "      <td>29955</td>\n",
       "      <td>NaN</td>\n",
       "      <td>NaN</td>\n",
       "      <td>NaN</td>\n",
       "      <td>NaN</td>\n",
       "      <td>4626.0</td>\n",
       "    </tr>\n",
       "    <tr>\n",
       "      <th>39</th>\n",
       "      <td>56159</td>\n",
       "      <td>NaN</td>\n",
       "      <td>NaN</td>\n",
       "      <td>10002.0</td>\n",
       "      <td>NaN</td>\n",
       "      <td>NaN</td>\n",
       "    </tr>\n",
       "    <tr>\n",
       "      <th>47</th>\n",
       "      <td>44466</td>\n",
       "      <td>54259.0</td>\n",
       "      <td>55571.0</td>\n",
       "      <td>7782.0</td>\n",
       "      <td>24171.0</td>\n",
       "      <td>6465.0</td>\n",
       "    </tr>\n",
       "    <tr>\n",
       "      <th>52</th>\n",
       "      <td>40721</td>\n",
       "      <td>NaN</td>\n",
       "      <td>NaN</td>\n",
       "      <td>NaN</td>\n",
       "      <td>NaN</td>\n",
       "      <td>NaN</td>\n",
       "    </tr>\n",
       "    <tr>\n",
       "      <th>54</th>\n",
       "      <td>27329</td>\n",
       "      <td>NaN</td>\n",
       "      <td>NaN</td>\n",
       "      <td>NaN</td>\n",
       "      <td>NaN</td>\n",
       "      <td>NaN</td>\n",
       "    </tr>\n",
       "    <tr>\n",
       "      <th>61</th>\n",
       "      <td>35942</td>\n",
       "      <td>38369.0</td>\n",
       "      <td>59598.0</td>\n",
       "      <td>NaN</td>\n",
       "      <td>26701.0</td>\n",
       "      <td>NaN</td>\n",
       "    </tr>\n",
       "    <tr>\n",
       "      <th>87</th>\n",
       "      <td>43265</td>\n",
       "      <td>NaN</td>\n",
       "      <td>NaN</td>\n",
       "      <td>NaN</td>\n",
       "      <td>NaN</td>\n",
       "      <td>14351.0</td>\n",
       "    </tr>\n",
       "    <tr>\n",
       "      <th>103</th>\n",
       "      <td>56082</td>\n",
       "      <td>NaN</td>\n",
       "      <td>NaN</td>\n",
       "      <td>18028.0</td>\n",
       "      <td>NaN</td>\n",
       "      <td>NaN</td>\n",
       "    </tr>\n",
       "    <tr>\n",
       "      <th>124</th>\n",
       "      <td>36050</td>\n",
       "      <td>NaN</td>\n",
       "      <td>NaN</td>\n",
       "      <td>NaN</td>\n",
       "      <td>NaN</td>\n",
       "      <td>NaN</td>\n",
       "    </tr>\n",
       "    <tr>\n",
       "      <th>125</th>\n",
       "      <td>76237</td>\n",
       "      <td>NaN</td>\n",
       "      <td>NaN</td>\n",
       "      <td>16538.0</td>\n",
       "      <td>NaN</td>\n",
       "      <td>NaN</td>\n",
       "    </tr>\n",
       "    <tr>\n",
       "      <th>129</th>\n",
       "      <td>42312</td>\n",
       "      <td>NaN</td>\n",
       "      <td>NaN</td>\n",
       "      <td>NaN</td>\n",
       "      <td>NaN</td>\n",
       "      <td>NaN</td>\n",
       "    </tr>\n",
       "    <tr>\n",
       "      <th>141</th>\n",
       "      <td>30379</td>\n",
       "      <td>13252.0</td>\n",
       "      <td>NaN</td>\n",
       "      <td>NaN</td>\n",
       "      <td>NaN</td>\n",
       "      <td>NaN</td>\n",
       "    </tr>\n",
       "    <tr>\n",
       "      <th>142</th>\n",
       "      <td>37036</td>\n",
       "      <td>NaN</td>\n",
       "      <td>NaN</td>\n",
       "      <td>NaN</td>\n",
       "      <td>NaN</td>\n",
       "      <td>NaN</td>\n",
       "    </tr>\n",
       "    <tr>\n",
       "      <th>149</th>\n",
       "      <td>31812</td>\n",
       "      <td>NaN</td>\n",
       "      <td>NaN</td>\n",
       "      <td>NaN</td>\n",
       "      <td>NaN</td>\n",
       "      <td>NaN</td>\n",
       "    </tr>\n",
       "    <tr>\n",
       "      <th>176</th>\n",
       "      <td>45640</td>\n",
       "      <td>NaN</td>\n",
       "      <td>NaN</td>\n",
       "      <td>NaN</td>\n",
       "      <td>NaN</td>\n",
       "      <td>NaN</td>\n",
       "    </tr>\n",
       "    <tr>\n",
       "      <th>181</th>\n",
       "      <td>112151</td>\n",
       "      <td>29627.0</td>\n",
       "      <td>NaN</td>\n",
       "      <td>16745.0</td>\n",
       "      <td>NaN</td>\n",
       "      <td>8550.0</td>\n",
       "    </tr>\n",
       "    <tr>\n",
       "      <th>183</th>\n",
       "      <td>36847</td>\n",
       "      <td>43950.0</td>\n",
       "      <td>20170.0</td>\n",
       "      <td>36534.0</td>\n",
       "      <td>NaN</td>\n",
       "      <td>47943.0</td>\n",
       "    </tr>\n",
       "    <tr>\n",
       "      <th>196</th>\n",
       "      <td>30624</td>\n",
       "      <td>NaN</td>\n",
       "      <td>NaN</td>\n",
       "      <td>18711.0</td>\n",
       "      <td>NaN</td>\n",
       "      <td>NaN</td>\n",
       "    </tr>\n",
       "    <tr>\n",
       "      <th>239</th>\n",
       "      <td>47493</td>\n",
       "      <td>NaN</td>\n",
       "      <td>NaN</td>\n",
       "      <td>NaN</td>\n",
       "      <td>NaN</td>\n",
       "      <td>NaN</td>\n",
       "    </tr>\n",
       "    <tr>\n",
       "      <th>253</th>\n",
       "      <td>29526</td>\n",
       "      <td>NaN</td>\n",
       "      <td>NaN</td>\n",
       "      <td>NaN</td>\n",
       "      <td>NaN</td>\n",
       "      <td>NaN</td>\n",
       "    </tr>\n",
       "    <tr>\n",
       "      <th>255</th>\n",
       "      <td>31614</td>\n",
       "      <td>NaN</td>\n",
       "      <td>NaN</td>\n",
       "      <td>NaN</td>\n",
       "      <td>NaN</td>\n",
       "      <td>NaN</td>\n",
       "    </tr>\n",
       "    <tr>\n",
       "      <th>258</th>\n",
       "      <td>56083</td>\n",
       "      <td>NaN</td>\n",
       "      <td>NaN</td>\n",
       "      <td>NaN</td>\n",
       "      <td>NaN</td>\n",
       "      <td>3321.0</td>\n",
       "    </tr>\n",
       "    <tr>\n",
       "      <th>259</th>\n",
       "      <td>53205</td>\n",
       "      <td>NaN</td>\n",
       "      <td>NaN</td>\n",
       "      <td>NaN</td>\n",
       "      <td>NaN</td>\n",
       "      <td>NaN</td>\n",
       "    </tr>\n",
       "    <tr>\n",
       "      <th>273</th>\n",
       "      <td>36817</td>\n",
       "      <td>NaN</td>\n",
       "      <td>NaN</td>\n",
       "      <td>NaN</td>\n",
       "      <td>NaN</td>\n",
       "      <td>NaN</td>\n",
       "    </tr>\n",
       "    <tr>\n",
       "      <th>276</th>\n",
       "      <td>27901</td>\n",
       "      <td>NaN</td>\n",
       "      <td>NaN</td>\n",
       "      <td>NaN</td>\n",
       "      <td>NaN</td>\n",
       "      <td>NaN</td>\n",
       "    </tr>\n",
       "    <tr>\n",
       "      <th>282</th>\n",
       "      <td>49063</td>\n",
       "      <td>NaN</td>\n",
       "      <td>NaN</td>\n",
       "      <td>NaN</td>\n",
       "      <td>NaN</td>\n",
       "      <td>NaN</td>\n",
       "    </tr>\n",
       "    <tr>\n",
       "      <th>284</th>\n",
       "      <td>68951</td>\n",
       "      <td>NaN</td>\n",
       "      <td>NaN</td>\n",
       "      <td>8692.0</td>\n",
       "      <td>NaN</td>\n",
       "      <td>NaN</td>\n",
       "    </tr>\n",
       "    <tr>\n",
       "      <th>285</th>\n",
       "      <td>40254</td>\n",
       "      <td>NaN</td>\n",
       "      <td>NaN</td>\n",
       "      <td>NaN</td>\n",
       "      <td>NaN</td>\n",
       "      <td>NaN</td>\n",
       "    </tr>\n",
       "    <tr>\n",
       "      <th>289</th>\n",
       "      <td>42786</td>\n",
       "      <td>NaN</td>\n",
       "      <td>NaN</td>\n",
       "      <td>NaN</td>\n",
       "      <td>NaN</td>\n",
       "      <td>NaN</td>\n",
       "    </tr>\n",
       "    <tr>\n",
       "      <th>311</th>\n",
       "      <td>29635</td>\n",
       "      <td>NaN</td>\n",
       "      <td>NaN</td>\n",
       "      <td>NaN</td>\n",
       "      <td>NaN</td>\n",
       "      <td>NaN</td>\n",
       "    </tr>\n",
       "    <tr>\n",
       "      <th>325</th>\n",
       "      <td>32717</td>\n",
       "      <td>16784.0</td>\n",
       "      <td>NaN</td>\n",
       "      <td>60869.0</td>\n",
       "      <td>NaN</td>\n",
       "      <td>5609.0</td>\n",
       "    </tr>\n",
       "    <tr>\n",
       "      <th>347</th>\n",
       "      <td>27380</td>\n",
       "      <td>NaN</td>\n",
       "      <td>NaN</td>\n",
       "      <td>NaN</td>\n",
       "      <td>NaN</td>\n",
       "      <td>NaN</td>\n",
       "    </tr>\n",
       "    <tr>\n",
       "      <th>370</th>\n",
       "      <td>39679</td>\n",
       "      <td>NaN</td>\n",
       "      <td>NaN</td>\n",
       "      <td>NaN</td>\n",
       "      <td>NaN</td>\n",
       "      <td>NaN</td>\n",
       "    </tr>\n",
       "    <tr>\n",
       "      <th>377</th>\n",
       "      <td>38793</td>\n",
       "      <td>NaN</td>\n",
       "      <td>NaN</td>\n",
       "      <td>NaN</td>\n",
       "      <td>NaN</td>\n",
       "      <td>NaN</td>\n",
       "    </tr>\n",
       "    <tr>\n",
       "      <th>380</th>\n",
       "      <td>28257</td>\n",
       "      <td>NaN</td>\n",
       "      <td>NaN</td>\n",
       "      <td>NaN</td>\n",
       "      <td>NaN</td>\n",
       "      <td>NaN</td>\n",
       "    </tr>\n",
       "    <tr>\n",
       "      <th>382</th>\n",
       "      <td>34454</td>\n",
       "      <td>NaN</td>\n",
       "      <td>NaN</td>\n",
       "      <td>NaN</td>\n",
       "      <td>NaN</td>\n",
       "      <td>NaN</td>\n",
       "    </tr>\n",
       "    <tr>\n",
       "      <th>401</th>\n",
       "      <td>27167</td>\n",
       "      <td>NaN</td>\n",
       "      <td>NaN</td>\n",
       "      <td>13223.0</td>\n",
       "      <td>NaN</td>\n",
       "      <td>NaN</td>\n",
       "    </tr>\n",
       "    <tr>\n",
       "      <th>427</th>\n",
       "      <td>31012</td>\n",
       "      <td>16687.0</td>\n",
       "      <td>NaN</td>\n",
       "      <td>15082.0</td>\n",
       "      <td>NaN</td>\n",
       "      <td>NaN</td>\n",
       "    </tr>\n",
       "    <tr>\n",
       "      <th>435</th>\n",
       "      <td>29703</td>\n",
       "      <td>NaN</td>\n",
       "      <td>NaN</td>\n",
       "      <td>13135.0</td>\n",
       "      <td>NaN</td>\n",
       "      <td>NaN</td>\n",
       "    </tr>\n",
       "    <tr>\n",
       "      <th>436</th>\n",
       "      <td>39228</td>\n",
       "      <td>NaN</td>\n",
       "      <td>NaN</td>\n",
       "      <td>NaN</td>\n",
       "      <td>NaN</td>\n",
       "      <td>NaN</td>\n",
       "    </tr>\n",
       "  </tbody>\n",
       "</table>\n",
       "</div>"
      ],
      "text/plain": [
       "      Fresh     Milk  Grocery   Frozen  Detergents_Paper  Delicassen\n",
       "12    31714  12319.0      NaN      NaN               NaN         NaN\n",
       "22    31276      NaN      NaN   9408.0               NaN      4334.0\n",
       "29    43088      NaN      NaN      NaN               NaN         NaN\n",
       "33    29729      NaN      NaN      NaN               NaN         NaN\n",
       "36    29955      NaN      NaN      NaN               NaN      4626.0\n",
       "39    56159      NaN      NaN  10002.0               NaN         NaN\n",
       "47    44466  54259.0  55571.0   7782.0           24171.0      6465.0\n",
       "52    40721      NaN      NaN      NaN               NaN         NaN\n",
       "54    27329      NaN      NaN      NaN               NaN         NaN\n",
       "61    35942  38369.0  59598.0      NaN           26701.0         NaN\n",
       "87    43265      NaN      NaN      NaN               NaN     14351.0\n",
       "103   56082      NaN      NaN  18028.0               NaN         NaN\n",
       "124   36050      NaN      NaN      NaN               NaN         NaN\n",
       "125   76237      NaN      NaN  16538.0               NaN         NaN\n",
       "129   42312      NaN      NaN      NaN               NaN         NaN\n",
       "141   30379  13252.0      NaN      NaN               NaN         NaN\n",
       "142   37036      NaN      NaN      NaN               NaN         NaN\n",
       "149   31812      NaN      NaN      NaN               NaN         NaN\n",
       "176   45640      NaN      NaN      NaN               NaN         NaN\n",
       "181  112151  29627.0      NaN  16745.0               NaN      8550.0\n",
       "183   36847  43950.0  20170.0  36534.0               NaN     47943.0\n",
       "196   30624      NaN      NaN  18711.0               NaN         NaN\n",
       "239   47493      NaN      NaN      NaN               NaN         NaN\n",
       "253   29526      NaN      NaN      NaN               NaN         NaN\n",
       "255   31614      NaN      NaN      NaN               NaN         NaN\n",
       "258   56083      NaN      NaN      NaN               NaN      3321.0\n",
       "259   53205      NaN      NaN      NaN               NaN         NaN\n",
       "273   36817      NaN      NaN      NaN               NaN         NaN\n",
       "276   27901      NaN      NaN      NaN               NaN         NaN\n",
       "282   49063      NaN      NaN      NaN               NaN         NaN\n",
       "284   68951      NaN      NaN   8692.0               NaN         NaN\n",
       "285   40254      NaN      NaN      NaN               NaN         NaN\n",
       "289   42786      NaN      NaN      NaN               NaN         NaN\n",
       "311   29635      NaN      NaN      NaN               NaN         NaN\n",
       "325   32717  16784.0      NaN  60869.0               NaN      5609.0\n",
       "347   27380      NaN      NaN      NaN               NaN         NaN\n",
       "370   39679      NaN      NaN      NaN               NaN         NaN\n",
       "377   38793      NaN      NaN      NaN               NaN         NaN\n",
       "380   28257      NaN      NaN      NaN               NaN         NaN\n",
       "382   34454      NaN      NaN      NaN               NaN         NaN\n",
       "401   27167      NaN      NaN  13223.0               NaN         NaN\n",
       "427   31012  16687.0      NaN  15082.0               NaN         NaN\n",
       "435   29703      NaN      NaN  13135.0               NaN         NaN\n",
       "436   39228      NaN      NaN      NaN               NaN         NaN"
      ]
     },
     "execution_count": 22,
     "metadata": {},
     "output_type": "execute_result"
    }
   ],
   "source": [
    "sol=pd.DataFrame({})\n",
    "for i in customers[['Fresh','Milk','Grocery','Frozen','Detergents_Paper','Delicassen']]:\n",
    "    sol[i]=customers[i][customers[i]>customers[i].quantile(0.90)]\n",
    "sol"
   ]
  },
  {
   "cell_type": "code",
   "execution_count": 23,
   "metadata": {},
   "outputs": [
    {
     "data": {
      "text/plain": [
       "44"
      ]
     },
     "execution_count": 23,
     "metadata": {},
     "output_type": "execute_result"
    }
   ],
   "source": [
    "len(sol)"
   ]
  },
  {
   "attachments": {},
   "cell_type": "markdown",
   "metadata": {},
   "source": [
    "**Your comment here**\n",
    "\n",
    "+ no compensa tirar los outlayers ya que como podeis ver en la tabla que hice por muy pocos outlayers estoy perdiendo 44 filas de informacion utiles donde talvez 5 filas sean las mas utiles de tirar.\n",
    "+ \n",
    "+ "
   ]
  },
  {
   "attachments": {},
   "cell_type": "markdown",
   "metadata": {},
   "source": [
    "# Challenge 3 - Data Preprocessing\n",
    "\n",
    "One problem with the dataset is the value ranges are remarkably different across various categories (e.g. `Fresh` and `Grocery` compared to `Detergents_Paper` and `Delicassen`). If you made this observation in the first challenge, you've done a great job! This means you not only completed the bonus questions in the previous Supervised Learning lab but also researched deep into [*feature scaling*](https://en.wikipedia.org/wiki/Feature_scaling). Keep on the good work!\n",
    "\n",
    "Diverse value ranges in different features could cause issues in our clustering. The way to reduce the problem is through feature scaling. We'll use this technique again with this dataset.\n",
    "\n",
    "#### We will use the `StandardScaler` from `sklearn.preprocessing` and scale our data. Read more about `StandardScaler` [here](https://scikit-learn.org/stable/modules/generated/sklearn.preprocessing.StandardScaler.html#sklearn.preprocessing.StandardScaler).\n",
    "\n",
    "*After scaling your data, assign the transformed data to a new variable `customers_scale`.*"
   ]
  },
  {
   "cell_type": "code",
   "execution_count": 24,
   "metadata": {},
   "outputs": [],
   "source": [
    "# Your import here:\n",
    "\n",
    "from sklearn.preprocessing import StandardScaler\n",
    "\n",
    "# Your code here:\n",
    "scaler=StandardScaler()\n",
    "customers_scale=scaler.fit_transform(customers)"
   ]
  },
  {
   "cell_type": "code",
   "execution_count": 25,
   "metadata": {},
   "outputs": [
    {
     "data": {
      "text/plain": [
       "array([[ 1.44865163,  0.59066829,  0.05293319, ..., -0.58936716,\n",
       "        -0.04356873, -0.06633906],\n",
       "       [ 1.44865163,  0.59066829, -0.39130197, ..., -0.27013618,\n",
       "         0.08640684,  0.08915105],\n",
       "       [ 1.44865163,  0.59066829, -0.44702926, ..., -0.13753572,\n",
       "         0.13323164,  2.24329255],\n",
       "       ...,\n",
       "       [ 1.44865163,  0.59066829,  0.20032554, ..., -0.54337975,\n",
       "         2.51121768,  0.12145607],\n",
       "       [-0.69029709,  0.59066829, -0.13538389, ..., -0.41944059,\n",
       "        -0.56977032,  0.21304614],\n",
       "       [-0.69029709,  0.59066829, -0.72930698, ..., -0.62009417,\n",
       "        -0.50488752, -0.52286938]])"
      ]
     },
     "execution_count": 25,
     "metadata": {},
     "output_type": "execute_result"
    }
   ],
   "source": [
    "customers_scale"
   ]
  },
  {
   "attachments": {},
   "cell_type": "markdown",
   "metadata": {},
   "source": [
    "# Challenge 4 - Data Clustering with K-Means\n",
    "\n",
    "Now let's cluster the data with K-Means first. Initiate the K-Means model, then fit your scaled data. In the data returned from the `.fit` method, there is an attribute called `labels_` which is the cluster number assigned to each data record. What you can do is to assign these labels back to `customers` in a new column called `customers['labels']`. Then you'll see the cluster results of the original data."
   ]
  },
  {
   "cell_type": "code",
   "execution_count": 26,
   "metadata": {
    "scrolled": true
   },
   "outputs": [
    {
     "name": "stderr",
     "output_type": "stream",
     "text": [
      "c:\\Users\\Sebas\\AppData\\Local\\Programs\\Python\\Python311\\Lib\\site-packages\\sklearn\\cluster\\_kmeans.py:870: FutureWarning: The default value of `n_init` will change from 10 to 'auto' in 1.4. Set the value of `n_init` explicitly to suppress the warning\n",
      "  warnings.warn(\n"
     ]
    }
   ],
   "source": [
    "from sklearn.cluster import KMeans\n",
    "\n",
    "# Your code here:\n",
    "df=pd.DataFrame(customers_scale ,columns=customers.columns)\n",
    "kmeans = KMeans(n_clusters=3)\n",
    "kmeans.fit(df)\n",
    "customers['labels']=kmeans.labels_"
   ]
  },
  {
   "attachments": {},
   "cell_type": "markdown",
   "metadata": {},
   "source": [
    "Count the values in `labels`."
   ]
  },
  {
   "cell_type": "code",
   "execution_count": 29,
   "metadata": {},
   "outputs": [
    {
     "data": {
      "text/plain": [
       "labels\n",
       "2    297\n",
       "0    130\n",
       "1     13\n",
       "Name: count, dtype: int64"
      ]
     },
     "execution_count": 29,
     "metadata": {},
     "output_type": "execute_result"
    }
   ],
   "source": [
    "# Your code here:\n",
    "customers.value_counts('labels')"
   ]
  },
  {
   "attachments": {},
   "cell_type": "markdown",
   "metadata": {},
   "source": [
    "# Challenge 5 - Data Clustering with DBSCAN\n",
    "\n",
    "Now let's cluster the data using DBSCAN. Use `DBSCAN(eps=0.5)` to initiate the model, then fit your scaled data. In the data returned from the `.fit` method, assign the `labels_` back to `customers['labels_DBSCAN']`. Now your original data have two labels, one from K-Means and the other from DBSCAN."
   ]
  },
  {
   "cell_type": "code",
   "execution_count": 32,
   "metadata": {
    "scrolled": true
   },
   "outputs": [],
   "source": [
    "# Your code here\n",
    "from sklearn.cluster import DBSCAN \n",
    "db=DBSCAN(eps=0.5)\n",
    "db.fit(df)\n",
    "customers['labels_DBSCAN']=db.labels_"
   ]
  },
  {
   "attachments": {},
   "cell_type": "markdown",
   "metadata": {},
   "source": [
    "Count the values in `labels_DBSCAN`."
   ]
  },
  {
   "cell_type": "code",
   "execution_count": 33,
   "metadata": {},
   "outputs": [
    {
     "data": {
      "text/plain": [
       "labels_DBSCAN\n",
       "-1    255\n",
       " 1    130\n",
       " 5     22\n",
       " 4      7\n",
       " 6      6\n",
       " 0      5\n",
       " 3      5\n",
       " 2      5\n",
       " 7      5\n",
       "Name: count, dtype: int64"
      ]
     },
     "execution_count": 33,
     "metadata": {},
     "output_type": "execute_result"
    }
   ],
   "source": [
    "# Your code here\n",
    "customers.labels_DBSCAN.value_counts()"
   ]
  },
  {
   "attachments": {},
   "cell_type": "markdown",
   "metadata": {},
   "source": [
    "# Challenge 6 - Compare K-Means with DBSCAN\n",
    "\n",
    "Now we want to visually compare how K-Means and DBSCAN have clustered our data. We will create scatter plots for several columns. For each of the following column pairs, plot a scatter plot using `labels` and another using `labels_DBSCAN`. Put them side by side to compare. Which clustering algorithm makes better sense?\n",
    "\n",
    "Columns to visualize:\n",
    "\n",
    "* `Detergents_Paper` as X and `Milk` as y\n",
    "* `Grocery` as X and `Fresh` as y\n",
    "* `Frozen` as X and `Delicassen` as y"
   ]
  },
  {
   "attachments": {},
   "cell_type": "markdown",
   "metadata": {},
   "source": [
    "Visualize `Detergents_Paper` as X and `Milk` as y by `labels` and `labels_DBSCAN` respectively"
   ]
  },
  {
   "cell_type": "code",
   "execution_count": 62,
   "metadata": {},
   "outputs": [
    {
     "data": {
      "image/png": "[encoded data removed]",
      "text/plain": [
       "<Figure size 1200x500 with 2 Axes>"
      ]
     },
     "metadata": {},
     "output_type": "display_data"
    }
   ],
   "source": [
    "# Your code here:\n",
    "X=customers.Detergents_Paper\n",
    "y=customers.Milk\n",
    "fig , axs= plt.subplots(1,2,figsize=(12,5))\n",
    "\n",
    "axs[0].scatter(X,y,c=customers.labels,cmap='cool')\n",
    "\n",
    "axs[1].scatter(X,y,c=customers.labels_DBSCAN,cmap='rainbow')\n",
    "\n",
    "plt.tight_layout()\n",
    "\n",
    "plt.show();"
   ]
  },
  {
   "attachments": {},
   "cell_type": "markdown",
   "metadata": {},
   "source": [
    "Visualize `Grocery` as X and `Fresh` as y by `labels` and `labels_DBSCAN` respectively"
   ]
  },
  {
   "cell_type": "code",
   "execution_count": 63,
   "metadata": {},
   "outputs": [
    {
     "data": {
      "image/png": "[encoded data removed]",
      "text/plain": [
       "<Figure size 1200x500 with 2 Axes>"
      ]
     },
     "metadata": {},
     "output_type": "display_data"
    }
   ],
   "source": [
    "# Your code here:\n",
    "X=customers.Grocery\n",
    "y=customers.Fresh\n",
    "fig , axs= plt.subplots(1,2,figsize=(12,5))\n",
    "\n",
    "axs[0].scatter(X,y,c=customers.labels,cmap='cool')\n",
    "\n",
    "axs[1].scatter(X,y,c=customers.labels_DBSCAN,cmap='rainbow')\n",
    "\n",
    "plt.tight_layout()\n",
    "\n",
    "plt.show();"
   ]
  },
  {
   "attachments": {},
   "cell_type": "markdown",
   "metadata": {},
   "source": [
    "Visualize `Frozen` as X and `Delicassen` as y by `labels` and `labels_DBSCAN` respectively"
   ]
  },
  {
   "cell_type": "code",
   "execution_count": 64,
   "metadata": {},
   "outputs": [
    {
     "data": {
      "image/png": "[encoded data removed]",
      "text/plain": [
       "<Figure size 1200x500 with 2 Axes>"
      ]
     },
     "metadata": {},
     "output_type": "display_data"
    }
   ],
   "source": [
    "# Your code here:\n",
    "X=customers.Frozen\n",
    "y=customers.Delicassen\n",
    "fig , axs= plt.subplots(1,2,figsize=(12,5))\n",
    "\n",
    "axs[0].scatter(X,y,c=customers.labels,cmap='cool')\n",
    "\n",
    "axs[1].scatter(X,y,c=customers.labels_DBSCAN,cmap='rainbow')\n",
    "\n",
    "plt.tight_layout()\n",
    "\n",
    "plt.show();"
   ]
  },
  {
   "attachments": {},
   "cell_type": "markdown",
   "metadata": {},
   "source": [
    "Let's use a groupby to see how the mean differs between the groups. Group `customers` by `labels` and `labels_DBSCAN` respectively and compute the means for all columns."
   ]
  },
  {
   "cell_type": "code",
   "execution_count": 65,
   "metadata": {},
   "outputs": [
    {
     "data": {
      "text/html": [
       "<div>\n",
       "<style scoped>\n",
       "    .dataframe tbody tr th:only-of-type {\n",
       "        vertical-align: middle;\n",
       "    }\n",
       "\n",
       "    .dataframe tbody tr th {\n",
       "        vertical-align: top;\n",
       "    }\n",
       "\n",
       "    .dataframe thead th {\n",
       "        text-align: right;\n",
       "    }\n",
       "</style>\n",
       "<table border=\"1\" class=\"dataframe\">\n",
       "  <thead>\n",
       "    <tr style=\"text-align: right;\">\n",
       "      <th></th>\n",
       "      <th>Channel</th>\n",
       "      <th>Region</th>\n",
       "      <th>Fresh</th>\n",
       "      <th>Milk</th>\n",
       "      <th>Grocery</th>\n",
       "      <th>Frozen</th>\n",
       "      <th>Detergents_Paper</th>\n",
       "      <th>Delicassen</th>\n",
       "      <th>labels_DBSCAN</th>\n",
       "    </tr>\n",
       "    <tr>\n",
       "      <th>labels</th>\n",
       "      <th></th>\n",
       "      <th></th>\n",
       "      <th></th>\n",
       "      <th></th>\n",
       "      <th></th>\n",
       "      <th></th>\n",
       "      <th></th>\n",
       "      <th></th>\n",
       "      <th></th>\n",
       "    </tr>\n",
       "  </thead>\n",
       "  <tbody>\n",
       "    <tr>\n",
       "      <th>0</th>\n",
       "      <td>2.000000</td>\n",
       "      <td>2.623077</td>\n",
       "      <td>8165.915385</td>\n",
       "      <td>8748.515385</td>\n",
       "      <td>13905.492308</td>\n",
       "      <td>1441.630769</td>\n",
       "      <td>5991.146154</td>\n",
       "      <td>1535.007692</td>\n",
       "      <td>-0.538462</td>\n",
       "    </tr>\n",
       "    <tr>\n",
       "      <th>1</th>\n",
       "      <td>1.846154</td>\n",
       "      <td>2.615385</td>\n",
       "      <td>25770.769231</td>\n",
       "      <td>35160.384615</td>\n",
       "      <td>41977.384615</td>\n",
       "      <td>6844.538462</td>\n",
       "      <td>19867.384615</td>\n",
       "      <td>7880.307692</td>\n",
       "      <td>-1.000000</td>\n",
       "    </tr>\n",
       "    <tr>\n",
       "      <th>2</th>\n",
       "      <td>1.003367</td>\n",
       "      <td>2.505051</td>\n",
       "      <td>13075.898990</td>\n",
       "      <td>3218.737374</td>\n",
       "      <td>3855.696970</td>\n",
       "      <td>3620.400673</td>\n",
       "      <td>776.875421</td>\n",
       "      <td>1242.249158</td>\n",
       "      <td>0.646465</td>\n",
       "    </tr>\n",
       "  </tbody>\n",
       "</table>\n",
       "</div>"
      ],
      "text/plain": [
       "         Channel    Region         Fresh          Milk       Grocery   \n",
       "labels                                                                 \n",
       "0       2.000000  2.623077   8165.915385   8748.515385  13905.492308  \\\n",
       "1       1.846154  2.615385  25770.769231  35160.384615  41977.384615   \n",
       "2       1.003367  2.505051  13075.898990   3218.737374   3855.696970   \n",
       "\n",
       "             Frozen  Detergents_Paper   Delicassen  labels_DBSCAN  \n",
       "labels                                                             \n",
       "0       1441.630769       5991.146154  1535.007692      -0.538462  \n",
       "1       6844.538462      19867.384615  7880.307692      -1.000000  \n",
       "2       3620.400673        776.875421  1242.249158       0.646465  "
      ]
     },
     "execution_count": 65,
     "metadata": {},
     "output_type": "execute_result"
    }
   ],
   "source": [
    "# Your code here:\n",
    "customers.groupby('labels').mean()"
   ]
  },
  {
   "cell_type": "code",
   "execution_count": 66,
   "metadata": {},
   "outputs": [
    {
     "data": {
      "text/html": [
       "<div>\n",
       "<style scoped>\n",
       "    .dataframe tbody tr th:only-of-type {\n",
       "        vertical-align: middle;\n",
       "    }\n",
       "\n",
       "    .dataframe tbody tr th {\n",
       "        vertical-align: top;\n",
       "    }\n",
       "\n",
       "    .dataframe thead th {\n",
       "        text-align: right;\n",
       "    }\n",
       "</style>\n",
       "<table border=\"1\" class=\"dataframe\">\n",
       "  <thead>\n",
       "    <tr style=\"text-align: right;\">\n",
       "      <th></th>\n",
       "      <th>Channel</th>\n",
       "      <th>Region</th>\n",
       "      <th>Fresh</th>\n",
       "      <th>Milk</th>\n",
       "      <th>Grocery</th>\n",
       "      <th>Frozen</th>\n",
       "      <th>Detergents_Paper</th>\n",
       "      <th>Delicassen</th>\n",
       "      <th>labels</th>\n",
       "    </tr>\n",
       "    <tr>\n",
       "      <th>labels_DBSCAN</th>\n",
       "      <th></th>\n",
       "      <th></th>\n",
       "      <th></th>\n",
       "      <th></th>\n",
       "      <th></th>\n",
       "      <th></th>\n",
       "      <th></th>\n",
       "      <th></th>\n",
       "      <th></th>\n",
       "    </tr>\n",
       "  </thead>\n",
       "  <tbody>\n",
       "    <tr>\n",
       "      <th>-1</th>\n",
       "      <td>1.490196</td>\n",
       "      <td>2.45098</td>\n",
       "      <td>13729.564706</td>\n",
       "      <td>8359.886275</td>\n",
       "      <td>11484.364706</td>\n",
       "      <td>3795.003922</td>\n",
       "      <td>4356.800000</td>\n",
       "      <td>2080.470588</td>\n",
       "      <td>1.062745</td>\n",
       "    </tr>\n",
       "    <tr>\n",
       "      <th>0</th>\n",
       "      <td>2.000000</td>\n",
       "      <td>3.00000</td>\n",
       "      <td>11401.000000</td>\n",
       "      <td>3536.200000</td>\n",
       "      <td>6729.000000</td>\n",
       "      <td>720.200000</td>\n",
       "      <td>3561.000000</td>\n",
       "      <td>258.200000</td>\n",
       "      <td>0.000000</td>\n",
       "    </tr>\n",
       "    <tr>\n",
       "      <th>1</th>\n",
       "      <td>1.000000</td>\n",
       "      <td>3.00000</td>\n",
       "      <td>9128.823077</td>\n",
       "      <td>1862.438462</td>\n",
       "      <td>2423.530769</td>\n",
       "      <td>2131.430769</td>\n",
       "      <td>496.576923</td>\n",
       "      <td>741.946154</td>\n",
       "      <td>2.000000</td>\n",
       "    </tr>\n",
       "    <tr>\n",
       "      <th>2</th>\n",
       "      <td>1.000000</td>\n",
       "      <td>3.00000</td>\n",
       "      <td>41446.600000</td>\n",
       "      <td>1421.200000</td>\n",
       "      <td>2167.600000</td>\n",
       "      <td>1276.400000</td>\n",
       "      <td>416.200000</td>\n",
       "      <td>784.800000</td>\n",
       "      <td>2.000000</td>\n",
       "    </tr>\n",
       "    <tr>\n",
       "      <th>3</th>\n",
       "      <td>2.000000</td>\n",
       "      <td>3.00000</td>\n",
       "      <td>2357.200000</td>\n",
       "      <td>10224.800000</td>\n",
       "      <td>11862.800000</td>\n",
       "      <td>609.600000</td>\n",
       "      <td>5780.000000</td>\n",
       "      <td>572.800000</td>\n",
       "      <td>0.000000</td>\n",
       "    </tr>\n",
       "    <tr>\n",
       "      <th>4</th>\n",
       "      <td>2.000000</td>\n",
       "      <td>3.00000</td>\n",
       "      <td>3068.142857</td>\n",
       "      <td>6095.857143</td>\n",
       "      <td>10355.000000</td>\n",
       "      <td>994.000000</td>\n",
       "      <td>4675.571429</td>\n",
       "      <td>1826.428571</td>\n",
       "      <td>0.000000</td>\n",
       "    </tr>\n",
       "    <tr>\n",
       "      <th>5</th>\n",
       "      <td>1.000000</td>\n",
       "      <td>1.00000</td>\n",
       "      <td>9837.863636</td>\n",
       "      <td>1751.863636</td>\n",
       "      <td>2161.681818</td>\n",
       "      <td>1513.181818</td>\n",
       "      <td>333.954545</td>\n",
       "      <td>669.045455</td>\n",
       "      <td>2.000000</td>\n",
       "    </tr>\n",
       "    <tr>\n",
       "      <th>6</th>\n",
       "      <td>1.000000</td>\n",
       "      <td>1.00000</td>\n",
       "      <td>6823.000000</td>\n",
       "      <td>1943.000000</td>\n",
       "      <td>2372.666667</td>\n",
       "      <td>6780.333333</td>\n",
       "      <td>386.500000</td>\n",
       "      <td>613.666667</td>\n",
       "      <td>2.000000</td>\n",
       "    </tr>\n",
       "    <tr>\n",
       "      <th>7</th>\n",
       "      <td>1.000000</td>\n",
       "      <td>2.00000</td>\n",
       "      <td>7494.600000</td>\n",
       "      <td>1537.600000</td>\n",
       "      <td>3383.000000</td>\n",
       "      <td>2575.400000</td>\n",
       "      <td>227.400000</td>\n",
       "      <td>941.000000</td>\n",
       "      <td>2.000000</td>\n",
       "    </tr>\n",
       "  </tbody>\n",
       "</table>\n",
       "</div>"
      ],
      "text/plain": [
       "                Channel   Region         Fresh          Milk       Grocery   \n",
       "labels_DBSCAN                                                                \n",
       "-1             1.490196  2.45098  13729.564706   8359.886275  11484.364706  \\\n",
       " 0             2.000000  3.00000  11401.000000   3536.200000   6729.000000   \n",
       " 1             1.000000  3.00000   9128.823077   1862.438462   2423.530769   \n",
       " 2             1.000000  3.00000  41446.600000   1421.200000   2167.600000   \n",
       " 3             2.000000  3.00000   2357.200000  10224.800000  11862.800000   \n",
       " 4             2.000000  3.00000   3068.142857   6095.857143  10355.000000   \n",
       " 5             1.000000  1.00000   9837.863636   1751.863636   2161.681818   \n",
       " 6             1.000000  1.00000   6823.000000   1943.000000   2372.666667   \n",
       " 7             1.000000  2.00000   7494.600000   1537.600000   3383.000000   \n",
       "\n",
       "                    Frozen  Detergents_Paper   Delicassen    labels  \n",
       "labels_DBSCAN                                                        \n",
       "-1             3795.003922       4356.800000  2080.470588  1.062745  \n",
       " 0              720.200000       3561.000000   258.200000  0.000000  \n",
       " 1             2131.430769        496.576923   741.946154  2.000000  \n",
       " 2             1276.400000        416.200000   784.800000  2.000000  \n",
       " 3              609.600000       5780.000000   572.800000  0.000000  \n",
       " 4              994.000000       4675.571429  1826.428571  0.000000  \n",
       " 5             1513.181818        333.954545   669.045455  2.000000  \n",
       " 6             6780.333333        386.500000   613.666667  2.000000  \n",
       " 7             2575.400000        227.400000   941.000000  2.000000  "
      ]
     },
     "execution_count": 66,
     "metadata": {},
     "output_type": "execute_result"
    }
   ],
   "source": [
    "customers.groupby('labels_DBSCAN').mean()"
   ]
  },
  {
   "attachments": {},
   "cell_type": "markdown",
   "metadata": {},
   "source": [
    "Which algorithm appears to perform better?"
   ]
  },
  {
   "attachments": {},
   "cell_type": "markdown",
   "metadata": {},
   "source": [
    "**Your observations here**\n",
    "\n",
    " Me cuesta un poco ver cual de los dos modelos clusteriza mejor a traves de sus medias. Si fuera por los graficos diria que kmeans funciona mejor, aunque si fuera por la diferencia de medias podria ser DBSCAN. Para mi ninguno de los dos esta haciendo buenos clusters. "
   ]
  },
  {
   "attachments": {},
   "cell_type": "markdown",
   "metadata": {},
   "source": [
    "# Bonus Challenge 2 - Changing K-Means Number of Clusters\n",
    "\n",
    "As we mentioned earlier, we don't need to worry about the number of clusters with DBSCAN because it automatically decides that based on the parameters we send to it. But with K-Means, we have to supply the `n_clusters` param (if you don't supply `n_clusters`, the algorithm will use `8` by default). You need to know that the optimal number of clusters differs case by case based on the dataset. K-Means can perform badly if the wrong number of clusters is used.\n",
    "\n",
    "In advanced machine learning, data scientists try different numbers of clusters and evaluate the results with statistical measures (read [here](https://en.wikipedia.org/wiki/Cluster_analysis#External_evaluation)). We are not using statistical measures today but we'll use our eyes instead. In the cells below, experiment with different number of clusters and visualize with scatter plots. What number of clusters seems to work best for K-Means?"
   ]
  },
  {
   "cell_type": "code",
   "execution_count": null,
   "metadata": {},
   "outputs": [],
   "source": [
    "# Your code here"
   ]
  },
  {
   "attachments": {},
   "cell_type": "markdown",
   "metadata": {},
   "source": [
    "**Your comment here**\n",
    "\n",
    "Segun puedo ver, 2 clusters parecen funcionar mejor."
   ]
  },
  {
   "attachments": {},
   "cell_type": "markdown",
   "metadata": {},
   "source": [
    "# Bonus Challenge 3 - Changing DBSCAN `eps` and `min_samples`\n",
    "\n",
    "Experiment changing the `eps` and `min_samples` params for DBSCAN. See how the results differ with scatter plot visualization."
   ]
  },
  {
   "cell_type": "code",
   "execution_count": null,
   "metadata": {},
   "outputs": [],
   "source": [
    "# Your code here"
   ]
  },
  {
   "attachments": {},
   "cell_type": "markdown",
   "metadata": {},
   "source": [
    "**Your comment here**\n",
    "\n",
    "+ \n",
    "+ \n",
    "+ \n"
   ]
  }
 ],
 "metadata": {
  "kernelspec": {
   "display_name": "Python 3",
   "language": "python",
   "name": "python3"
  },
  "language_info": {
   "codemirror_mode": {
    "name": "ipython",
    "version": 3
   },
   "file_extension": ".py",
   "mimetype": "text/x-python",
   "name": "python",
   "nbconvert_exporter": "python",
   "pygments_lexer": "ipython3",
   "version": "3.11.3"
  },
  "toc": {
   "base_numbering": 1,
   "nav_menu": {},
   "number_sections": true,
   "sideBar": true,
   "skip_h1_title": false,
   "title_cell": "Table of Contents",
   "title_sidebar": "Contents",
   "toc_cell": true,
   "toc_position": {},
   "toc_section_display": true,
   "toc_window_display": false
  },
  "varInspector": {
   "cols": {
    "lenName": 16,
    "lenType": 16,
    "lenVar": 40
   },
   "kernels_config": {
    "python": {
     "delete_cmd_postfix": "",
     "delete_cmd_prefix": "del ",
     "library": "var_list.py",
     "varRefreshCmd": "print(var_dic_list())"
    },
    "r": {
     "delete_cmd_postfix": ") ",
     "delete_cmd_prefix": "rm(",
     "library": "var_list.r",
     "varRefreshCmd": "cat(var_dic_list()) "
    }
   },
   "types_to_exclude": [
    "module",
    "function",
    "builtin_function_or_method",
    "instance",
    "_Feature"
   ],
   "window_display": false
  }
 },
 "nbformat": 4,
 "nbformat_minor": 2
}
